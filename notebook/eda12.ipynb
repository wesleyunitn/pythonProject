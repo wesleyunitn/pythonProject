{
 "cells": [
  {
   "cell_type": "code",
   "execution_count": 1,
   "id": "2cc12299",
   "metadata": {},
   "outputs": [],
   "source": [
    "import os\n",
    "import sys\n",
    "#SERVE PER POTER IMPORTARE I FILE .PY DALLA CARTELLA SOURCE\n",
    "sys.path.append('..')\n",
    "sys.path.append('..\\data')\n"
   ]
  },
  {
   "cell_type": "code",
   "execution_count": 3,
   "id": "1bd8708d",
   "metadata": {},
   "outputs": [],
   "source": [
    "#ora src è un pacchetto e posso usare la classica dot notation di python\n",
    "from src.data_load_notebook  import *\n",
    "#import pandas as pd\n",
    "# ||||||||||è un utilizzo un pò improprio di import, basta ricordare che così importiamo pandas\n",
    "from src import classes\n",
    "from src import funzioni\n",
    "from src import cluster_routine\n",
    "import numpy as np\n"
   ]
  },
  {
   "cell_type": "code",
   "execution_count": 4,
   "id": "95506133",
   "metadata": {},
   "outputs": [],
   "source": [
    "picchi1 = classes.Spettri(data1,npicchi=None,prop={'height':(None,None),'prominence':1.5*10**-6})\n",
    "\n",
    "picchi2 = classes.Spettri(data2,npicchi=None,prop={'height':(None,None),'prominence':1.5*10**-6})\n",
    "\n"
   ]
  },
  {
   "cell_type": "code",
   "execution_count": null,
   "id": "d388bdb6",
   "metadata": {},
   "outputs": [],
   "source": [
    "#come cambia in funzione della prominence il numero di picchi che vengono trovati?\n",
    "dic = pd.DataFrame({})\n",
    "for n,pr in enumerate(np.linspace(10**-6,10**-5,10)):\n",
    "    cl = classes.Spettri(data1,npicchi=None,prop={'height':(None,None),'prominence':pr})\n",
    "    cl.normalizer()\n",
    "    cl.peakfinder()\n",
    "    feat = cl.featextract(statlist=['mean','std','count'])\n",
    "    dic[f'{n}_esimo_pr-{pr}']= feat['count']\n",
    "    del cl\n",
    "    "
   ]
  },
  {
   "cell_type": "code",
   "execution_count": null,
   "id": "cc37fc33",
   "metadata": {},
   "outputs": [],
   "source": [
    "import seaborn as sns\n",
    "import matplotlib.pyplot as plt\n",
    "%matplotlib inline\n",
    "plt.figure(figsize=(10,8))\n",
    "dic.T.iloc[:,10:20].plot(figsize=(20,8),grid=True, xlim=(None,None))\n"
   ]
  },
  {
   "cell_type": "code",
   "execution_count": null,
   "id": "79038ad5",
   "metadata": {},
   "outputs": [],
   "source": []
  },
  {
   "cell_type": "code",
   "execution_count": 5,
   "id": "c3230f2c",
   "metadata": {
    "scrolled": true
   },
   "outputs": [],
   "source": [
    "#questa è una routine base prima normalizza i dati e poi ne calcola i picchi\n",
    "# le proprietà sono salvate come attributo dell'istanza [.picchi è un attributo aggiuntivo creato .peakfinder() ]\n",
    "\n",
    "picchi1.peakfinder()\n",
    "picchi2.peakfinder()\n",
    "pass"
   ]
  },
  {
   "cell_type": "code",
   "execution_count": 6,
   "id": "56280e26",
   "metadata": {},
   "outputs": [
    {
     "name": "stdout",
     "output_type": "stream",
     "text": [
      "con 2 clusters : 0.8325340838980354\n",
      "con 3 clusters : 0.6628980197588246\n",
      "con 4 clusters : 0.515447760895428\n",
      "con 5 clusters : 0.5117384011727942\n",
      "con 6 clusters : 0.40579140694764493\n",
      "con 7 clusters : 0.4058486272936131\n",
      "con 8 clusters : 0.401321131949551\n",
      "con 9 clusters : 0.3428084619624659\n",
      "con 10 clusters : 0.3334267549753465\n"
     ]
    },
    {
     "data": {
      "image/png": "[encoded data removed]",
      "text/plain": [
       "<Figure size 432x288 with 1 Axes>"
      ]
     },
     "metadata": {
      "needs_background": "light"
     },
     "output_type": "display_data"
    },
    {
     "name": "stdout",
     "output_type": "stream",
     "text": [
      "con 2 clusters : 0.7621277124587997\n",
      "con 3 clusters : 0.6794191425975319\n",
      "con 4 clusters : 0.6870746423681606\n",
      "con 5 clusters : 0.7113376583486041\n",
      "con 6 clusters : 0.6877131495301773\n",
      "con 7 clusters : 0.6808836705130102\n",
      "con 8 clusters : 0.6982604690884764\n",
      "con 9 clusters : 0.520221757963823\n",
      "con 10 clusters : 0.5211493554838318\n"
     ]
    },
    {
     "data": {
      "image/png": "[encoded data removed]",
      "text/plain": [
       "<Figure size 432x288 with 1 Axes>"
      ]
     },
     "metadata": {
      "needs_background": "light"
     },
     "output_type": "display_data"
    }
   ],
   "source": [
    "#per ora utilizzo un metodo per l'estrazione delle feature senza che esso salvi il risultato in nessun attributo ma ritornandolo\n",
    "feat_picchi1= picchi1.featextract(cols=['peak_heights','prominences','K'],statlist=['mean','std','count'])\n",
    "feat_picchi2 = picchi2.featextract(cols=['peak_heights','prominences','K'], statlist=['mean','std','count'])\n",
    "km1_list= cluster_routine.km_cluster_plt(feat_picchi1,plot=True)\n",
    "km2_list =  cluster_routine.km_cluster_plt(feat_picchi2.dropna(),plot=True)\n",
    "feat_picchi1['labels_km']=  km1_list[3].labels_\n",
    "feat_picchi2['labels_km']= km2_list[3].labels_"
   ]
  },
  {
   "cell_type": "code",
   "execution_count": 10,
   "id": "97f0c2de",
   "metadata": {},
   "outputs": [
    {
     "data": {
      "text/html": [
       "<div>\n",
       "<style scoped>\n",
       "    .dataframe tbody tr th:only-of-type {\n",
       "        vertical-align: middle;\n",
       "    }\n",
       "\n",
       "    .dataframe tbody tr th {\n",
       "        vertical-align: top;\n",
       "    }\n",
       "\n",
       "    .dataframe thead th {\n",
       "        text-align: right;\n",
       "    }\n",
       "</style>\n",
       "<table border=\"1\" class=\"dataframe\">\n",
       "  <thead>\n",
       "    <tr style=\"text-align: right;\">\n",
       "      <th></th>\n",
       "      <th>peak_heights_mean</th>\n",
       "      <th>peak_heights_std</th>\n",
       "      <th>prominences_mean</th>\n",
       "      <th>prominences_std</th>\n",
       "      <th>K_mean</th>\n",
       "      <th>K_std</th>\n",
       "      <th>count</th>\n",
       "      <th>labels_km</th>\n",
       "    </tr>\n",
       "  </thead>\n",
       "  <tbody>\n",
       "    <tr>\n",
       "      <th>row1col1</th>\n",
       "      <td>0.000245</td>\n",
       "      <td>0.000093</td>\n",
       "      <td>0.000007</td>\n",
       "      <td>0.000017</td>\n",
       "      <td>2237.017796</td>\n",
       "      <td>1081.879438</td>\n",
       "      <td>280.0</td>\n",
       "      <td>0</td>\n",
       "    </tr>\n",
       "    <tr>\n",
       "      <th>row1col2</th>\n",
       "      <td>0.000287</td>\n",
       "      <td>0.000081</td>\n",
       "      <td>0.000008</td>\n",
       "      <td>0.000032</td>\n",
       "      <td>2418.584069</td>\n",
       "      <td>1067.901461</td>\n",
       "      <td>204.0</td>\n",
       "      <td>0</td>\n",
       "    </tr>\n",
       "    <tr>\n",
       "      <th>row1col3</th>\n",
       "      <td>0.000226</td>\n",
       "      <td>0.000123</td>\n",
       "      <td>0.000006</td>\n",
       "      <td>0.000014</td>\n",
       "      <td>2286.814625</td>\n",
       "      <td>1054.044861</td>\n",
       "      <td>289.0</td>\n",
       "      <td>0</td>\n",
       "    </tr>\n",
       "    <tr>\n",
       "      <th>row1col4</th>\n",
       "      <td>0.000242</td>\n",
       "      <td>0.000092</td>\n",
       "      <td>0.000007</td>\n",
       "      <td>0.000021</td>\n",
       "      <td>2251.696377</td>\n",
       "      <td>1063.485504</td>\n",
       "      <td>292.0</td>\n",
       "      <td>0</td>\n",
       "    </tr>\n",
       "    <tr>\n",
       "      <th>row1col5</th>\n",
       "      <td>0.000255</td>\n",
       "      <td>0.000078</td>\n",
       "      <td>0.000006</td>\n",
       "      <td>0.000018</td>\n",
       "      <td>2138.144468</td>\n",
       "      <td>1086.943304</td>\n",
       "      <td>196.0</td>\n",
       "      <td>2</td>\n",
       "    </tr>\n",
       "    <tr>\n",
       "      <th>...</th>\n",
       "      <td>...</td>\n",
       "      <td>...</td>\n",
       "      <td>...</td>\n",
       "      <td>...</td>\n",
       "      <td>...</td>\n",
       "      <td>...</td>\n",
       "      <td>...</td>\n",
       "      <td>...</td>\n",
       "    </tr>\n",
       "    <tr>\n",
       "      <th>row11col7</th>\n",
       "      <td>0.000273</td>\n",
       "      <td>0.000108</td>\n",
       "      <td>0.000005</td>\n",
       "      <td>0.000017</td>\n",
       "      <td>2103.786407</td>\n",
       "      <td>1037.607781</td>\n",
       "      <td>216.0</td>\n",
       "      <td>2</td>\n",
       "    </tr>\n",
       "    <tr>\n",
       "      <th>row11col8</th>\n",
       "      <td>0.000261</td>\n",
       "      <td>0.000062</td>\n",
       "      <td>0.000003</td>\n",
       "      <td>0.000004</td>\n",
       "      <td>2010.029531</td>\n",
       "      <td>1122.052144</td>\n",
       "      <td>162.0</td>\n",
       "      <td>2</td>\n",
       "    </tr>\n",
       "    <tr>\n",
       "      <th>row11col9</th>\n",
       "      <td>0.000370</td>\n",
       "      <td>0.000113</td>\n",
       "      <td>0.000005</td>\n",
       "      <td>0.000022</td>\n",
       "      <td>2855.606837</td>\n",
       "      <td>881.912545</td>\n",
       "      <td>104.0</td>\n",
       "      <td>3</td>\n",
       "    </tr>\n",
       "    <tr>\n",
       "      <th>row11col10</th>\n",
       "      <td>0.000288</td>\n",
       "      <td>0.000045</td>\n",
       "      <td>0.000012</td>\n",
       "      <td>0.000023</td>\n",
       "      <td>1235.672350</td>\n",
       "      <td>1492.800475</td>\n",
       "      <td>6.0</td>\n",
       "      <td>1</td>\n",
       "    </tr>\n",
       "    <tr>\n",
       "      <th>row11col11</th>\n",
       "      <td>0.000238</td>\n",
       "      <td>0.000111</td>\n",
       "      <td>0.000007</td>\n",
       "      <td>0.000018</td>\n",
       "      <td>2263.045711</td>\n",
       "      <td>1090.266527</td>\n",
       "      <td>324.0</td>\n",
       "      <td>0</td>\n",
       "    </tr>\n",
       "  </tbody>\n",
       "</table>\n",
       "<p>121 rows × 8 columns</p>\n",
       "</div>"
      ],
      "text/plain": [
       "            peak_heights_mean  peak_heights_std  prominences_mean  \\\n",
       "row1col1             0.000245          0.000093          0.000007   \n",
       "row1col2             0.000287          0.000081          0.000008   \n",
       "row1col3             0.000226          0.000123          0.000006   \n",
       "row1col4             0.000242          0.000092          0.000007   \n",
       "row1col5             0.000255          0.000078          0.000006   \n",
       "...                       ...               ...               ...   \n",
       "row11col7            0.000273          0.000108          0.000005   \n",
       "row11col8            0.000261          0.000062          0.000003   \n",
       "row11col9            0.000370          0.000113          0.000005   \n",
       "row11col10           0.000288          0.000045          0.000012   \n",
       "row11col11           0.000238          0.000111          0.000007   \n",
       "\n",
       "            prominences_std       K_mean        K_std  count  labels_km  \n",
       "row1col1           0.000017  2237.017796  1081.879438  280.0          0  \n",
       "row1col2           0.000032  2418.584069  1067.901461  204.0          0  \n",
       "row1col3           0.000014  2286.814625  1054.044861  289.0          0  \n",
       "row1col4           0.000021  2251.696377  1063.485504  292.0          0  \n",
       "row1col5           0.000018  2138.144468  1086.943304  196.0          2  \n",
       "...                     ...          ...          ...    ...        ...  \n",
       "row11col7          0.000017  2103.786407  1037.607781  216.0          2  \n",
       "row11col8          0.000004  2010.029531  1122.052144  162.0          2  \n",
       "row11col9          0.000022  2855.606837   881.912545  104.0          3  \n",
       "row11col10         0.000023  1235.672350  1492.800475    6.0          1  \n",
       "row11col11         0.000018  2263.045711  1090.266527  324.0          0  \n",
       "\n",
       "[121 rows x 8 columns]"
      ]
     },
     "execution_count": 10,
     "metadata": {},
     "output_type": "execute_result"
    }
   ],
   "source": [
    "feat_picchi1"
   ]
  },
  {
   "cell_type": "code",
   "execution_count": null,
   "id": "208b6c5d",
   "metadata": {},
   "outputs": [],
   "source": []
  },
  {
   "cell_type": "code",
   "execution_count": null,
   "id": "80b338b2",
   "metadata": {},
   "outputs": [],
   "source": [
    "sns.pairplot(data=feat_picchi1,vars=['peak_heights_mean','K_mean','count','prominences_mean'], hue='labels_km')"
   ]
  },
  {
   "cell_type": "code",
   "execution_count": null,
   "id": "d5fe3d68",
   "metadata": {},
   "outputs": [],
   "source": [
    "sns.pairplot(data=feat_picchi2,vars=['peak_heights_mean','K_mean','count','prominences_mean'], hue='labels_km')"
   ]
  },
  {
   "cell_type": "code",
   "execution_count": null,
   "id": "0d6491b2",
   "metadata": {},
   "outputs": [],
   "source": [
    "score1=[]\n",
    "for x in km1_list:\n",
    "    \n",
    "    score1.append(cluster_routine.silhouette_score(feat_picchi1,x.labels_))"
   ]
  },
  {
   "cell_type": "code",
   "execution_count": null,
   "id": "c7792187",
   "metadata": {},
   "outputs": [],
   "source": [
    "score2=[]\n",
    "for x in km2_list:\n",
    "    \n",
    "    score2.append(cluster_routine.silhouette_score(feat_picchi2,x.labels_))"
   ]
  },
  {
   "cell_type": "code",
   "execution_count": null,
   "id": "6a9da360",
   "metadata": {},
   "outputs": [],
   "source": [
    "score1"
   ]
  },
  {
   "cell_type": "code",
   "execution_count": null,
   "id": "15c4d82d",
   "metadata": {},
   "outputs": [],
   "source": [
    "sns.lineplot(data=score1,label='score1')\n",
    "sns.lineplot(data=score2,label='score2')"
   ]
  },
  {
   "cell_type": "code",
   "execution_count": null,
   "id": "24e17b9f",
   "metadata": {},
   "outputs": [],
   "source": [
    "db1list = cluster_routine.db_cluster_plt(feat_picchi1,n_components=2, eps= 0.55, min_samples=4)\n"
   ]
  },
  {
   "cell_type": "code",
   "execution_count": null,
   "id": "4f8e81b1",
   "metadata": {},
   "outputs": [],
   "source": [
    "db2list = cluster_routine.db_cluster_plt(feat_picchi2)"
   ]
  },
  {
   "cell_type": "code",
   "execution_count": null,
   "id": "2800f1b8",
   "metadata": {},
   "outputs": [],
   "source": [
    "feat_picchi2['labels_db'] = db2list[-2].labels_\n",
    "feat_picchi1['labels_db'] = db1list[4].labels_\n",
    "\n",
    "sns.pairplot(data=feat_picchi2,vars=['peak_heights_mean','K_mean','count','prominences_mean'], hue='labels_db')"
   ]
  },
  {
   "cell_type": "code",
   "execution_count": null,
   "id": "ab30a793",
   "metadata": {},
   "outputs": [],
   "source": [
    "\n",
    "sns.pairplot(data=feat_picchi1,vars=['peak_heights_mean','K_mean','count','prominences_mean'], hue='labels_db')"
   ]
  },
  {
   "cell_type": "code",
   "execution_count": null,
   "id": "778e0f61",
   "metadata": {},
   "outputs": [],
   "source": []
  }
 ],
 "metadata": {
  "kernelspec": {
   "display_name": "Python 3 (ipykernel)",
   "language": "python",
   "name": "python3"
  },
  "language_info": {
   "codemirror_mode": {
    "name": "ipython",
    "version": 3
   },
   "file_extension": ".py",
   "mimetype": "text/x-python",
   "name": "python",
   "nbconvert_exporter": "python",
   "pygments_lexer": "ipython3",
   "version": "3.9.12"
  }
 },
 "nbformat": 4,
 "nbformat_minor": 5
}
