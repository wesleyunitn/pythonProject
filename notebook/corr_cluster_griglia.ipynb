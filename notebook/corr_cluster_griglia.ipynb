{
 "cells": [
  {
   "cell_type": "code",
   "execution_count": 1,
   "id": "05a86a75",
   "metadata": {},
   "outputs": [],
   "source": [
    "from scipy.spatial.distance import cdist,pdist\n",
    "\n",
    "import matplotlib.pyplot as plt\n",
    "import seaborn as sns\n",
    "from numpy.random import randint"
   ]
  },
  {
   "cell_type": "code",
   "execution_count": 2,
   "id": "51bc06f1",
   "metadata": {},
   "outputs": [],
   "source": [
    "import os\n",
    "import sys\n",
    "#SERVE PER POTER IMPORTARE I FILE .PY DALLA CARTELLA SOURCE\n",
    "sys.path.append('..')\n",
    "sys.path.append('..\\data')\n",
    "\n",
    "\n",
    "#ora src è un pacchetto e posso usare la classica dot notation di python\n",
    "from src.data_load_notebook  import *\n",
    "#import pandas as pd\n",
    "# ||||||||||è un utilizzo un pò improprio di import, basta ricordare che così importiamo pandas\n",
    "from src import classes\n",
    "from src import funzioni\n",
    "from src import cluster_routine\n",
    "import numpy as np"
   ]
  },
  {
   "cell_type": "code",
   "execution_count": 3,
   "id": "f635c6fe",
   "metadata": {},
   "outputs": [],
   "source": [
    "picchi1 = classes.Spettri(data1,npicchi=None,prop={'height':(None,None),'prominence':1*10**-6})\n",
    "picchi2 = classes.Spettri(data2,npicchi=None,prop={'height':(None,None),'prominence':1*10**-6})\n",
    "picchi1.peakfinder()\n",
    "picchi2.peakfinder()\n",
    "pass"
   ]
  },
  {
   "cell_type": "code",
   "execution_count": 4,
   "id": "7e159f24",
   "metadata": {},
   "outputs": [
    {
     "name": "stdout",
     "output_type": "stream",
     "text": [
      "con 2 clusters : 0.6035367189624082\n",
      "con 3 clusters : 0.3339800803878453\n",
      "con 4 clusters : 0.3467245991357732\n",
      "con 5 clusters : 0.3395406213320563\n",
      "con 6 clusters : 0.3592566860696502\n",
      "con 7 clusters : 0.3187425397906194\n",
      "con 8 clusters : 0.3231982083261129\n",
      "con 9 clusters : 0.33267517808202846\n",
      "con 10 clusters : 0.32044648546883536\n",
      "con 2 clusters : 0.5613518162393052\n",
      "con 3 clusters : 0.5811927215242716\n",
      "con 4 clusters : 0.49869336867938163\n",
      "con 5 clusters : 0.45007084481694015\n",
      "con 6 clusters : 0.4495600520080553\n",
      "con 7 clusters : 0.4473190936439305\n",
      "con 8 clusters : 0.4481766800116808\n",
      "con 9 clusters : 0.3917296014241961\n",
      "con 10 clusters : 0.3916839008358256\n"
     ]
    }
   ],
   "source": [
    "feat_picchi1= picchi1.featextract(cols=['peak_heights','prominences','K'],statlist=['mean','std','count'])\n",
    "feat_picchi2 = picchi2.featextract(cols=['peak_heights','prominences','K'], statlist=['mean','std','count'])\n",
    "km1_list= cluster_routine.km_cluster_plt(feat_picchi1, pca =3)\n",
    "km2_list =  cluster_routine.km_cluster_plt(feat_picchi2, pca = 3)\n",
    "feat_picchi1['labels_km']=  km1_list[1].labels_\n",
    "feat_picchi2['labels_km']= km2_list[1].labels_"
   ]
  },
  {
   "cell_type": "code",
   "execution_count": null,
   "id": "1db588e1",
   "metadata": {},
   "outputs": [],
   "source": [
    "feat_picchi1['labels_km']=  km1_list[0].labels_\n",
    "feat_picchi2['labels_km']= km2_list[3].labels_"
   ]
  },
  {
   "cell_type": "code",
   "execution_count": null,
   "id": "c222b343",
   "metadata": {},
   "outputs": [],
   "source": [
    "l = [(x,y) for x in range(1,12) for y in range(1,12)]\n",
    "grid = np.array(l).astype(float)\n",
    "plt.xlim(0,14)\n",
    "plt.ylim(0,14)\n",
    "fig = plt.gcf()\n",
    "fig.set_size_inches(11, 7)\n",
    "sns.scatterplot(x = grid[:,0], y = grid[:,1], hue = feat_picchi2['labels_km'])\n",
    "np.unique(feat_picchi1['labels_km'],return_counts = True)\n"
   ]
  },
  {
   "cell_type": "code",
   "execution_count": null,
   "id": "e830031e",
   "metadata": {},
   "outputs": [],
   "source": [
    "l = [(x,y) for x in range(1,12) for y in range(1,12)]\n",
    "grid = np.array(l).astype(float)\n",
    "np.mean(pdist(grid))"
   ]
  },
  {
   "cell_type": "code",
   "execution_count": null,
   "id": "9cb0d0b5",
   "metadata": {},
   "outputs": [],
   "source": [
    "feat_picchi1= picchi1.featextract(cols=['peak_heights','prominences','K'],statlist=['mean','std','count'])\n",
    "feat_picchi2 = picchi2.featextract(cols=['peak_heights','prominences','K'], statlist=['mean','std','count'])\n",
    "db1list = cluster_routine.db_cluster_plt(feat_picchi1,n_components=2, eps= 0.3, min_samples=5)\n"
   ]
  },
  {
   "cell_type": "code",
   "execution_count": null,
   "id": "0a06aa7c",
   "metadata": {
    "scrolled": true
   },
   "outputs": [],
   "source": [
    "feat_picchi1['labels_db'] = db1list[-5].labels_\n",
    "\n",
    "for lab in np.unique(feat_picchi2['labels_db'])[:]:\n",
    "    mean = np.mean(pdist(funzioni.index_translate(feat_picchi2[feat_picchi2['labels_db']==lab].index )))\n",
    "    print(f'per la label {lab} abbiamo come distanza media: {mean}')"
   ]
  },
  {
   "cell_type": "code",
   "execution_count": null,
   "id": "8228045f",
   "metadata": {},
   "outputs": [],
   "source": [
    "db2list = cluster_routine.db_cluster_plt(feat_picchi2)\n",
    "feat_picchi1['labels_db'] = db1list[-5].labels_\n",
    "funzioni.distpoint(feat_picchi1[feat_picchi1['labels_db']==0].index)"
   ]
  },
  {
   "cell_type": "code",
   "execution_count": null,
   "id": "e29de2e7",
   "metadata": {
    "scrolled": true
   },
   "outputs": [],
   "source": [
    "feat_picchi2['labels_db'] = db2list[4].labels_\n"
   ]
  },
  {
   "cell_type": "code",
   "execution_count": null,
   "id": "751f8fc6",
   "metadata": {},
   "outputs": [],
   "source": [
    "\n",
    "np.mean(pdist(funzioni.index_translate(feat_picchi1[feat_picchi1['labels_db']==3].index)))"
   ]
  },
  {
   "cell_type": "code",
   "execution_count": null,
   "id": "d0e6f04c",
   "metadata": {},
   "outputs": [],
   "source": [
    "len(funzioni.index_translate(feat_picchi1[feat_picchi1['labels_db']==0].index))"
   ]
  },
  {
   "cell_type": "code",
   "execution_count": null,
   "id": "09ed6925",
   "metadata": {},
   "outputs": [],
   "source": [
    "63*62/2"
   ]
  },
  {
   "cell_type": "code",
   "execution_count": null,
   "id": "a5fd186f",
   "metadata": {},
   "outputs": [],
   "source": []
  }
 ],
 "metadata": {
  "kernelspec": {
   "display_name": "Python 3 (ipykernel)",
   "language": "python",
   "name": "python3"
  },
  "language_info": {
   "codemirror_mode": {
    "name": "ipython",
    "version": 3
   },
   "file_extension": ".py",
   "mimetype": "text/x-python",
   "name": "python",
   "nbconvert_exporter": "python",
   "pygments_lexer": "ipython3",
   "version": "3.9.12"
  }
 },
 "nbformat": 4,
 "nbformat_minor": 5
}
