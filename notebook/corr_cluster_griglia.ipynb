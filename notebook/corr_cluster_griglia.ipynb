{
 "cells": [
  {
   "cell_type": "code",
   "execution_count": 1,
   "id": "05a86a75",
   "metadata": {},
   "outputs": [],
   "source": [
    "from scipy.spatial.distance import cdist,pdist\n",
    "\n",
    "import matplotlib.pyplot as plt\n",
    "import seaborn as sns\n",
    "from numpy.random import randint"
   ]
  },
  {
   "cell_type": "code",
   "execution_count": 3,
   "id": "51bc06f1",
   "metadata": {},
   "outputs": [],
   "source": [
    "import os\n",
    "import sys\n",
    "#SERVE PER POTER IMPORTARE I FILE .PY DALLA CARTELLA SOURCE\n",
    "sys.path.append('..')\n",
    "sys.path.append('..\\data')\n",
    "\n",
    "\n",
    "#ora src è un pacchetto e posso usare la classica dot notation di python\n",
    "from src.data_load_notebook  import *\n",
    "#import pandas as pd\n",
    "# ||||||||||è un utilizzo un pò improprio di import, basta ricordare che così importiamo pandas\n",
    "from src import classes\n",
    "from src import funzioni\n",
    "from src import cluster_routine\n",
    "import numpy as np"
   ]
  },
  {
   "cell_type": "code",
   "execution_count": 5,
   "id": "f635c6fe",
   "metadata": {},
   "outputs": [],
   "source": [
    "picchi1 = classes.Spettri(data1,npicchi=None,prop={'height':(None,None),'prominence':1*10**-6})\n",
    "picchi2 = classes.Spettri(data2,npicchi=None,prop={'height':(None,None),'prominence':1*10**-6})\n",
    "picchi1.peakfinder()\n",
    "picchi2.peakfinder()\n",
    "pass"
   ]
  },
  {
   "cell_type": "code",
   "execution_count": null,
   "id": "7e159f24",
   "metadata": {},
   "outputs": [],
   "source": [
    "feat_picchi1= picchi1.featextract(cols=['peak_heights','prominences','K'],statlist=['mean','std','count'])\n",
    "feat_picchi2 = picchi2.featextract(cols=['peak_heights','prominences','K'], statlist=['mean','std','count'])\n",
    "km1_list= cluster_routine.km_cluster_plt(feat_picchi1, pca =3)\n",
    "km2_list =  cluster_routine.km_cluster_plt(feat_picchi2, pca = 3)\n",
    "feat_picchi1['labels_km']=  km1_list[1].labels_\n",
    "feat_picchi2['labels_km']= km2_list[1].labels_"
   ]
  },
  {
   "cell_type": "code",
   "execution_count": null,
   "id": "1db588e1",
   "metadata": {},
   "outputs": [],
   "source": [
    "feat_picchi1['labels_km']=  km1_list[0].labels_\n",
    "feat_picchi2['labels_km']= km2_list[3].labels_"
   ]
  },
  {
   "cell_type": "code",
   "execution_count": null,
   "id": "c222b343",
   "metadata": {},
   "outputs": [],
   "source": [
    "l = [(x,y) for x in range(1,12) for y in range(1,12)]\n",
    "grid = np.array(l).astype(float)\n",
    "plt.xlim(0,14)\n",
    "plt.ylim(0,14)\n",
    "fig = plt.gcf()\n",
    "fig.set_size_inches(11, 7)\n",
    "sns.scatterplot(x = grid[:,0], y = grid[:,1], hue = feat_picchi2['labels_km'])\n",
    "np.unique(feat_picchi1['labels_km'],return_counts = True)\n"
   ]
  },
  {
   "cell_type": "code",
   "execution_count": 22,
   "id": "e830031e",
   "metadata": {},
   "outputs": [
    {
     "data": {
      "text/plain": [
       "5.758545271680614"
      ]
     },
     "execution_count": 22,
     "metadata": {},
     "output_type": "execute_result"
    }
   ],
   "source": [
    "l = [(x,y) for x in range(1,12) for y in range(1,12)]\n",
    "grid = np.array(l).astype(float)\n",
    "np.mean(pdist(grid))"
   ]
  },
  {
   "cell_type": "code",
   "execution_count": 6,
   "id": "9cb0d0b5",
   "metadata": {},
   "outputs": [
    {
     "name": "stdout",
     "output_type": "stream",
     "text": [
      "con eps =  0.24 abbiamo (array([-1,  0,  1,  2,  3], dtype=int64), array([71, 33,  6,  5,  6], dtype=int64)) clusters e lo score : -0.06057163868816978\n",
      "con eps =  0.2533333333333333 abbiamo (array([-1,  0,  1,  2,  3], dtype=int64), array([67, 33, 10,  5,  6], dtype=int64)) clusters e lo score : -0.027782844279640995\n",
      "con eps =  0.26666666666666666 abbiamo (array([-1,  0,  1,  2], dtype=int64), array([61, 45,  9,  6], dtype=int64)) clusters e lo score : 0.026846502908736084\n",
      "con eps =  0.27999999999999997 abbiamo (array([-1,  0,  1,  2], dtype=int64), array([55, 50, 10,  6], dtype=int64)) clusters e lo score : 0.05633493030490174\n",
      "con eps =  0.29333333333333333 abbiamo (array([-1,  0,  1,  2], dtype=int64), array([54, 51,  6, 10], dtype=int64)) clusters e lo score : 0.06063763832186408\n",
      "con eps =  0.30666666666666664 abbiamo (array([-1,  0,  1,  2], dtype=int64), array([52, 52,  6, 11], dtype=int64)) clusters e lo score : 0.07773214986865036\n",
      "con eps =  0.31999999999999995 abbiamo (array([-1,  0,  1,  2,  3], dtype=int64), array([47, 52,  6, 11,  5], dtype=int64)) clusters e lo score : 0.057438736842726275\n",
      "con eps =  0.3333333333333333 abbiamo (array([-1,  0,  1,  2,  3], dtype=int64), array([41, 58,  6, 11,  5], dtype=int64)) clusters e lo score : 0.05170346075293216\n",
      "con eps =  0.3466666666666667 abbiamo (array([-1,  0,  1,  2,  3], dtype=int64), array([36, 63,  6, 11,  5], dtype=int64)) clusters e lo score : 0.05433464139190648\n",
      "con eps =  0.36 abbiamo (array([-1,  0,  1,  2,  3], dtype=int64), array([34, 65,  6, 11,  5], dtype=int64)) clusters e lo score : 0.05591632307527131\n"
     ]
    }
   ],
   "source": [
    "feat_picchi1= picchi1.featextract(cols=['peak_heights','prominences','K'],statlist=['mean','std','count'])\n",
    "feat_picchi2 = picchi2.featextract(cols=['peak_heights','prominences','K'], statlist=['mean','std','count'])\n",
    "db1list = cluster_routine.db_cluster_plt(feat_picchi1,n_components=2, eps= 0.3, min_samples=5)\n"
   ]
  },
  {
   "cell_type": "code",
   "execution_count": 37,
   "id": "0a06aa7c",
   "metadata": {
    "scrolled": true
   },
   "outputs": [
    {
     "name": "stdout",
     "output_type": "stream",
     "text": [
      "per la label -1 abbiamo come distanza media: 5.286036236279571\n",
      "per la label 0 abbiamo come distanza media: 5.0649048783732775\n",
      "per la label 1 abbiamo come distanza media: 5.327449143715647\n",
      "per la label 2 abbiamo come distanza media: 4.500628173157226\n"
     ]
    }
   ],
   "source": [
    "feat_picchi1['labels_db'] = db1list[-5].labels_\n",
    "\n",
    "for lab in np.unique(feat_picchi2['labels_db'])[:]:\n",
    "    mean = np.mean(pdist(funzioni.index_translate(feat_picchi2[feat_picchi2['labels_db']==lab].index )))\n",
    "    print(f'per la label {lab} abbiamo come distanza media: {mean}')"
   ]
  },
  {
   "cell_type": "code",
   "execution_count": 9,
   "id": "8228045f",
   "metadata": {},
   "outputs": [
    {
     "name": "stdout",
     "output_type": "stream",
     "text": [
      "con eps =  0.24 abbiamo (array([-1,  0,  1], dtype=int64), array([48, 66,  7], dtype=int64)) clusters e lo score : 0.16261448678228757\n",
      "con eps =  0.2533333333333333 abbiamo (array([-1,  0,  1,  2], dtype=int64), array([43, 66,  7,  5], dtype=int64)) clusters e lo score : 0.16129392092637249\n",
      "con eps =  0.26666666666666666 abbiamo (array([-1,  0,  1,  2], dtype=int64), array([40, 69,  7,  5], dtype=int64)) clusters e lo score : 0.17044775424572856\n",
      "con eps =  0.27999999999999997 abbiamo (array([-1,  0,  1,  2], dtype=int64), array([38, 70,  7,  6], dtype=int64)) clusters e lo score : 0.1896319464913001\n",
      "con eps =  0.29333333333333333 abbiamo (array([-1,  0,  1,  2], dtype=int64), array([38, 70,  7,  6], dtype=int64)) clusters e lo score : 0.1896319464913001\n",
      "con eps =  0.30666666666666664 abbiamo (array([-1,  0,  1,  2], dtype=int64), array([35, 71,  7,  8], dtype=int64)) clusters e lo score : 0.22426091572422777\n",
      "con eps =  0.31999999999999995 abbiamo (array([-1,  0,  1], dtype=int64), array([34, 80,  7], dtype=int64)) clusters e lo score : 0.2068598906525519\n",
      "con eps =  0.3333333333333333 abbiamo (array([-1,  0,  1], dtype=int64), array([34, 80,  7], dtype=int64)) clusters e lo score : 0.2068598906525519\n",
      "con eps =  0.3466666666666667 abbiamo (array([-1,  0,  1], dtype=int64), array([34, 80,  7], dtype=int64)) clusters e lo score : 0.2068598906525519\n",
      "con eps =  0.36 abbiamo (array([-1,  0,  1], dtype=int64), array([33, 81,  7], dtype=int64)) clusters e lo score : 0.20630996028337698\n"
     ]
    }
   ],
   "source": [
    "db2list = cluster_routine.db_cluster_plt(feat_picchi2)\n"
   ]
  },
  {
   "cell_type": "code",
   "execution_count": 36,
   "id": "e29de2e7",
   "metadata": {
    "scrolled": true
   },
   "outputs": [],
   "source": [
    "feat_picchi2['labels_db'] = db2list[4].labels_\n"
   ]
  },
  {
   "cell_type": "code",
   "execution_count": 21,
   "id": "751f8fc6",
   "metadata": {},
   "outputs": [
    {
     "ename": "ValueError",
     "evalue": "A 2-dimensional array must be passed.",
     "output_type": "error",
     "traceback": [
      "\u001b[1;31m---------------------------------------------------------------------------\u001b[0m",
      "\u001b[1;31mValueError\u001b[0m                                Traceback (most recent call last)",
      "Input \u001b[1;32mIn [21]\u001b[0m, in \u001b[0;36m<cell line: 1>\u001b[1;34m()\u001b[0m\n\u001b[1;32m----> 1\u001b[0m np\u001b[38;5;241m.\u001b[39mmean(\u001b[43mpdist\u001b[49m\u001b[43m(\u001b[49m\u001b[43mfunzioni\u001b[49m\u001b[38;5;241;43m.\u001b[39;49m\u001b[43mindex_translate\u001b[49m\u001b[43m(\u001b[49m\u001b[43mfeat_picchi1\u001b[49m\u001b[43m[\u001b[49m\u001b[43mfeat_picchi1\u001b[49m\u001b[43m[\u001b[49m\u001b[38;5;124;43m'\u001b[39;49m\u001b[38;5;124;43mlabels_db\u001b[39;49m\u001b[38;5;124;43m'\u001b[39;49m\u001b[43m]\u001b[49m\u001b[38;5;241;43m==\u001b[39;49m\u001b[38;5;241;43m4\u001b[39;49m\u001b[43m]\u001b[49m\u001b[38;5;241;43m.\u001b[39;49m\u001b[43mindex\u001b[49m\u001b[43m)\u001b[49m\u001b[43m)\u001b[49m)\n",
      "File \u001b[1;32m~\\miniconda3\\lib\\site-packages\\scipy\\spatial\\distance.py:2231\u001b[0m, in \u001b[0;36mpdist\u001b[1;34m(X, metric, out, **kwargs)\u001b[0m\n\u001b[0;32m   2229\u001b[0m s \u001b[38;5;241m=\u001b[39m X\u001b[38;5;241m.\u001b[39mshape\n\u001b[0;32m   2230\u001b[0m \u001b[38;5;28;01mif\u001b[39;00m \u001b[38;5;28mlen\u001b[39m(s) \u001b[38;5;241m!=\u001b[39m \u001b[38;5;241m2\u001b[39m:\n\u001b[1;32m-> 2231\u001b[0m     \u001b[38;5;28;01mraise\u001b[39;00m \u001b[38;5;167;01mValueError\u001b[39;00m(\u001b[38;5;124m'\u001b[39m\u001b[38;5;124mA 2-dimensional array must be passed.\u001b[39m\u001b[38;5;124m'\u001b[39m)\n\u001b[0;32m   2233\u001b[0m m, n \u001b[38;5;241m=\u001b[39m s\n\u001b[0;32m   2235\u001b[0m \u001b[38;5;28;01mif\u001b[39;00m callable(metric):\n",
      "\u001b[1;31mValueError\u001b[0m: A 2-dimensional array must be passed."
     ]
    }
   ],
   "source": [
    "\n",
    "np.mean(pdist(funzioni.index_translate(feat_picchi1[feat_picchi1['labels_db']==3].index)))"
   ]
  },
  {
   "cell_type": "code",
   "execution_count": 15,
   "id": "d0e6f04c",
   "metadata": {},
   "outputs": [
    {
     "data": {
      "text/plain": [
       "63"
      ]
     },
     "execution_count": 15,
     "metadata": {},
     "output_type": "execute_result"
    }
   ],
   "source": [
    "len(funzioni.index_translate(feat_picchi1[feat_picchi1['labels_db']==0].index))"
   ]
  },
  {
   "cell_type": "code",
   "execution_count": 16,
   "id": "09ed6925",
   "metadata": {},
   "outputs": [
    {
     "data": {
      "text/plain": [
       "1953.0"
      ]
     },
     "execution_count": 16,
     "metadata": {},
     "output_type": "execute_result"
    }
   ],
   "source": [
    "63*62/2"
   ]
  },
  {
   "cell_type": "code",
   "execution_count": null,
   "id": "a5fd186f",
   "metadata": {},
   "outputs": [],
   "source": []
  }
 ],
 "metadata": {
  "kernelspec": {
   "display_name": "Python 3 (ipykernel)",
   "language": "python",
   "name": "python3"
  },
  "language_info": {
   "codemirror_mode": {
    "name": "ipython",
    "version": 3
   },
   "file_extension": ".py",
   "mimetype": "text/x-python",
   "name": "python",
   "nbconvert_exporter": "python",
   "pygments_lexer": "ipython3",
   "version": "3.9.12"
  }
 },
 "nbformat": 4,
 "nbformat_minor": 5
}
