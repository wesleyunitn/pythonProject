{
 "cells": [
  {
   "cell_type": "code",
   "execution_count": 14,
   "id": "2cc12299",
   "metadata": {},
   "outputs": [
    {
     "data": {
      "text/plain": [
       "'C:\\\\Users\\\\Utente\\\\PycharmProjects\\\\pythonProject\\\\notebook\\\\data\\\\S1_bkg_mapA_11x11.txt'"
      ]
     },
     "execution_count": 14,
     "metadata": {},
     "output_type": "execute_result"
    }
   ],
   "source": [
    "import os\n",
    "import sys\n"
   ]
  },
  {
   "cell_type": "code",
   "execution_count": 1,
   "id": "1bd8708d",
   "metadata": {},
   "outputs": [
    {
     "ename": "ModuleNotFoundError",
     "evalue": "No module named 'data_load'",
     "output_type": "error",
     "traceback": [
      "\u001b[1;31m---------------------------------------------------------------------------\u001b[0m",
      "\u001b[1;31mModuleNotFoundError\u001b[0m                       Traceback (most recent call last)",
      "Input \u001b[1;32mIn [1]\u001b[0m, in \u001b[0;36m<cell line: 1>\u001b[1;34m()\u001b[0m\n\u001b[1;32m----> 1\u001b[0m \u001b[38;5;28;01mfrom\u001b[39;00m \u001b[38;5;21;01mdata_load\u001b[39;00m  \u001b[38;5;28;01mimport\u001b[39;00m \u001b[38;5;241m*\u001b[39m\n\u001b[0;32m      2\u001b[0m \u001b[38;5;66;03m#import pandas as pd\u001b[39;00m\n\u001b[0;32m      3\u001b[0m \u001b[38;5;66;03m# ||||||||||è un utilizzo un pò improprio di import, basta ricordare che così importiamo pandas\u001b[39;00m\n\u001b[0;32m      4\u001b[0m \u001b[38;5;28;01mimport\u001b[39;00m \u001b[38;5;21;01mclasses\u001b[39;00m\n",
      "\u001b[1;31mModuleNotFoundError\u001b[0m: No module named 'data_load'"
     ]
    }
   ],
   "source": [
    "from data_load  import *\n",
    "#import pandas as pd\n",
    "# ||||||||||è un utilizzo un pò improprio di import, basta ricordare che così importiamo pandas\n",
    "import classes\n",
    "import funzioni\n",
    "import cluster_routine\n",
    "import numpy as np\n"
   ]
  },
  {
   "cell_type": "code",
   "execution_count": null,
   "id": "95506133",
   "metadata": {},
   "outputs": [],
   "source": [
    "picchi1 = classes.Spettri(data1,npicchi=None,prop={'height':(None,None),'prominence':1*10**-6})\n",
    "\n",
    "picchi2 = classes.Spettri(data2,npicchi=None,prop={'height':(None,None),'prominence':1*10**-6})\n",
    "\n"
   ]
  },
  {
   "cell_type": "code",
   "execution_count": null,
   "id": "d388bdb6",
   "metadata": {},
   "outputs": [],
   "source": [
    "#come cambia in funzione della prominence il numero di picchi che vengono trovati?\n",
    "dic = pd.DataFrame({})\n",
    "for n,pr in enumerate(np.linspace(10**-6,10**-5,10)):\n",
    "    cl = classes.Spettri(data1,npicchi=None,prop={'height':(None,None),'prominence':pr})\n",
    "    cl.normalizer()\n",
    "    cl.peakfinder()\n",
    "    feat = cl.featextract(statlist=['mean','std','count'])\n",
    "    dic[f'{n}_esimo_pr-{pr}']= feat['count']\n",
    "    del cl\n",
    "    "
   ]
  },
  {
   "cell_type": "code",
   "execution_count": null,
   "id": "cc37fc33",
   "metadata": {},
   "outputs": [],
   "source": [
    "import seaborn as sns\n",
    "import matplotlib.pyplot as plt\n",
    "%matplotlib inline\n",
    "plt.figure(figsize=(10,8))\n",
    "dic.T.iloc[:,10:20].plot(figsize=(20,8),grid=True, xlim=(None,None))\n"
   ]
  },
  {
   "cell_type": "code",
   "execution_count": null,
   "id": "79038ad5",
   "metadata": {},
   "outputs": [],
   "source": []
  },
  {
   "cell_type": "code",
   "execution_count": null,
   "id": "c3230f2c",
   "metadata": {
    "scrolled": true
   },
   "outputs": [],
   "source": [
    "#questa è una routine base prima normalizza i dati e poi ne calcola i picchi\n",
    "# le proprietà sono salvate come attributo dell'istanza [.picchi è un attributo aggiuntivo creato .peakfinder() ]\n",
    "picchi1.normalizer()\n",
    "picchi2.normalizer()\n",
    "picchi1.peakfinder()\n",
    "picchi2.peakfinder()\n",
    "pass"
   ]
  },
  {
   "cell_type": "code",
   "execution_count": null,
   "id": "56280e26",
   "metadata": {},
   "outputs": [],
   "source": [
    "#per ora utilizzo un metodo per l'estrazione delle feature senza che esso salvi il risultato in nessun attributo ma ritornandolo\n",
    "feat_picchi1= picchi1.featextract(cols=['peak_heights','prominences','K'],statlist=['mean','std','count'])\n",
    "feat_picchi2 = picchi2.featextract(cols=['peak_heights','prominences','K'], statlist=['mean','std','count'])\n",
    "km1_list= cluster_routine.km_cluster_plt(feat_picchi1,plot=True)\n",
    "km2_list =  cluster_routine.km_cluster_plt(feat_picchi2.dropna(),plot=True)\n",
    "feat_picchi1['labels_km']=  km1_list[7].labels_\n",
    "feat_picchi2['labels_km']= km2_list[8].labels_"
   ]
  },
  {
   "cell_type": "code",
   "execution_count": null,
   "id": "97f0c2de",
   "metadata": {},
   "outputs": [],
   "source": []
  },
  {
   "cell_type": "code",
   "execution_count": null,
   "id": "208b6c5d",
   "metadata": {},
   "outputs": [],
   "source": []
  },
  {
   "cell_type": "code",
   "execution_count": null,
   "id": "80b338b2",
   "metadata": {},
   "outputs": [],
   "source": [
    "sns.pairplot(data=feat_picchi1,vars=['peak_heights_mean','K_mean','count','prominences_mean'], hue='labels_km')"
   ]
  },
  {
   "cell_type": "code",
   "execution_count": null,
   "id": "d5fe3d68",
   "metadata": {},
   "outputs": [],
   "source": [
    "sns.pairplot(data=feat_picchi2,vars=['peak_heights_mean','K_mean','count','prominences_mean'], hue='labels_km')"
   ]
  },
  {
   "cell_type": "code",
   "execution_count": null,
   "id": "0d6491b2",
   "metadata": {},
   "outputs": [],
   "source": [
    "score1=[]\n",
    "for x in km1_list:\n",
    "    \n",
    "    score1.append(cluster_routine.silhouette_score(feat_picchi1,x.labels_))"
   ]
  },
  {
   "cell_type": "code",
   "execution_count": null,
   "id": "c7792187",
   "metadata": {},
   "outputs": [],
   "source": [
    "score2=[]\n",
    "for x in km2_list:\n",
    "    \n",
    "    score2.append(cluster_routine.silhouette_score(feat_picchi2,x.labels_))"
   ]
  },
  {
   "cell_type": "code",
   "execution_count": null,
   "id": "6a9da360",
   "metadata": {},
   "outputs": [],
   "source": [
    "score1"
   ]
  },
  {
   "cell_type": "code",
   "execution_count": null,
   "id": "15c4d82d",
   "metadata": {},
   "outputs": [],
   "source": [
    "sns.lineplot(data=score1,label='score1')\n",
    "sns.lineplot(data=score2,label='score2')"
   ]
  },
  {
   "cell_type": "code",
   "execution_count": null,
   "id": "24e17b9f",
   "metadata": {},
   "outputs": [],
   "source": []
  }
 ],
 "metadata": {
  "kernelspec": {
   "display_name": "Python 3 (ipykernel)",
   "language": "python",
   "name": "python3"
  },
  "language_info": {
   "codemirror_mode": {
    "name": "ipython",
    "version": 3
   },
   "file_extension": ".py",
   "mimetype": "text/x-python",
   "name": "python",
   "nbconvert_exporter": "python",
   "pygments_lexer": "ipython3",
   "version": "3.9.12"
  }
 },
 "nbformat": 4,
 "nbformat_minor": 5
}
