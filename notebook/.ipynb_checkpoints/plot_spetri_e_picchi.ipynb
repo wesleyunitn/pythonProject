{
 "cells": [
  {
   "cell_type": "code",
   "execution_count": 1,
   "id": "194579d2",
   "metadata": {},
   "outputs": [],
   "source": [
    "from data_load  import *\n",
    "#import pandas as pd\n",
    "# ||||||||||è un utilizzo un pò improprio di import, basta ricordare che così importiamo pandas\n",
    "import classes\n",
    "import funzioni\n",
    "import cluster_routine\n",
    "import numpy as np\n",
    "import seaborn as sns"
   ]
  },
  {
   "cell_type": "code",
   "execution_count": 12,
   "id": "ee0be5fa",
   "metadata": {},
   "outputs": [
    {
     "name": "stdout",
     "output_type": "stream",
     "text": [
      "Index(['peak_heights', 'prominences', 'left_bases', 'right_bases',\n",
      "       'peak_ind_row1col1', 'K'],\n",
      "      dtype='object')\n"
     ]
    }
   ],
   "source": [
    "picchi1 = classes.Spettri(data1,npicchi=None,prop={'height':(None,None),'prominence':1*10**-6})\n",
    "\n",
    "picchi2 = classes.Spettri(data2,npicchi=None,prop={'height':(None,None),'prominence':1*10**-6})\n",
    "\n",
    "picchi1.normalizer()\n",
    "picchi2.normalizer()\n",
    "picchi1.peakfinder()\n",
    "picchi2.peakfinder()\n",
    "pass\n",
    "print(picchi1.picchi[0].columns)\n"
   ]
  },
  {
   "cell_type": "code",
   "execution_count": 17,
   "id": "c5ec9b84",
   "metadata": {},
   "outputs": [],
   "source": [
    "feat1 = picchi1.featextract(cols=['peak_heights','prominences','K'])\n",
    "feat2 = picchi2.featextract(cols=['peak_heights','prominences','K'])"
   ]
  },
  {
   "cell_type": "code",
   "execution_count": 20,
   "id": "fd250438",
   "metadata": {},
   "outputs": [
    {
     "name": "stdout",
     "output_type": "stream",
     "text": [
      "Object `sns.lineplot` not found.\n"
     ]
    }
   ],
   "source": [
    "sns.lineplot??"
   ]
  },
  {
   "cell_type": "code",
   "execution_count": null,
   "id": "850785ef",
   "metadata": {},
   "outputs": [],
   "source": []
  },
  {
   "cell_type": "code",
   "execution_count": null,
   "id": "80c0c300",
   "metadata": {},
   "outputs": [],
   "source": []
  },
  {
   "cell_type": "code",
   "execution_count": null,
   "id": "4399c595",
   "metadata": {},
   "outputs": [],
   "source": []
  }
 ],
 "metadata": {
  "kernelspec": {
   "display_name": "Python 3 (ipykernel)",
   "language": "python",
   "name": "python3"
  },
  "language_info": {
   "codemirror_mode": {
    "name": "ipython",
    "version": 3
   },
   "file_extension": ".py",
   "mimetype": "text/x-python",
   "name": "python",
   "nbconvert_exporter": "python",
   "pygments_lexer": "ipython3",
   "version": "3.9.12"
  }
 },
 "nbformat": 4,
 "nbformat_minor": 5
}
