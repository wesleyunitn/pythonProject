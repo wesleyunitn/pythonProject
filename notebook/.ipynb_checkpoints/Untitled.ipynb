{
 "cells": [
  {
   "cell_type": "code",
   "execution_count": 1,
   "id": "8a59b42e",
   "metadata": {},
   "outputs": [],
   "source": [
    "from data_load  import *\n",
    "#import pandas as pd\n",
    "# ||||||||||è un utilizzo un pò improprio di import, basta ricordare che così importiamo pandas\n",
    "import classes\n",
    "import funzioni\n",
    "import cluster_routine\n",
    "import numpy as np\n",
    "from sklearn.cluster import DBSCAN,KMeans\n",
    "from sklearn.preprocessing import StandardScaler\n",
    "from scipy.spatial.distance import cdist,pdist\n"
   ]
  },
  {
   "cell_type": "code",
   "execution_count": 2,
   "id": "476093a6",
   "metadata": {},
   "outputs": [],
   "source": [
    "picchi1 = classes.Spettri(data1,npicchi=None,prop={'height':(None,None),'prominence':1*10**-6})\n",
    "picchi2 = classes.Spettri(data2,npicchi=None,prop={'height':(None,None),'prominence':1*10**-6})\n",
    "picchi1.normalizer()\n",
    "picchi2.normalizer()\n",
    "picchi1.peakfinder()\n",
    "picchi2.peakfinder()\n",
    "pass"
   ]
  },
  {
   "cell_type": "code",
   "execution_count": 69,
   "id": "8a281ed3",
   "metadata": {},
   "outputs": [],
   "source": [
    "feat1 = picchi1.featextract(statlist=['mean','std','count'])\n",
    "db1 = cluster_routine.db_cluster_plt(feat1,n_components=3, eps= 0.3,min_samples=5)\n",
    "feat1['labels']=db1.labels_\n",
    "feat2 = picchi2.featextract()\n",
    "db2 = cluster_routine.db_cluster_plt(feat2,n_components=3,eps = 0.3,min_samples=5)\n",
    "feat2['labels'] = db2.labels_\n",
    "pass"
   ]
  },
  {
   "cell_type": "code",
   "execution_count": 45,
   "id": "3fc219d6",
   "metadata": {},
   "outputs": [],
   "source": [
    "def cluster_dist(feat,db):\n",
    "    df = pd.Series(dtype=float)\n",
    "    for label in np.unique(db.labels_):\n",
    "        temp=[]\n",
    "        for x in feat[feat['labels']==label].index:\n",
    "            temp.append(x[3:])\n",
    "            \n",
    "        final_points=[]\n",
    "        for i in temp:\n",
    "            final_points.append([i[0],i[-1]])\n",
    "        final_points=np.array(final_points).astype(float)\n",
    "        #print(final_points)\n",
    "        df['mean_dist'+str(label)]= pdist(final_points).mean()\n",
    "        \n",
    "    return df"
   ]
  },
  {
   "cell_type": "code",
   "execution_count": 89,
   "id": "58354586",
   "metadata": {},
   "outputs": [
    {
     "data": {
      "text/plain": [
       "mean_dist-1    5.237390\n",
       "mean_dist0     4.883434\n",
       "mean_dist1     5.458093\n",
       "dtype: float64"
      ]
     },
     "execution_count": 89,
     "metadata": {},
     "output_type": "execute_result"
    }
   ],
   "source": [
    "dif = cluster_dist(feat2,db2)\n",
    "cluster_dist(feat1,db1)"
   ]
  },
  {
   "cell_type": "code",
   "execution_count": 82,
   "id": "25f5d37d",
   "metadata": {},
   "outputs": [
    {
     "name": "stdout",
     "output_type": "stream",
     "text": [
      "(array([0, 1]), array([118,   3], dtype=int64))\n",
      "con 2 clusters : 0.8166045980748348\n",
      "(array([0, 1, 2]), array([110,   8,   3], dtype=int64))\n",
      "con 3 clusters : 0.7361319293220122\n",
      "(array([0, 1, 2, 3]), array([110,   1,   8,   2], dtype=int64))\n",
      "con 4 clusters : 0.7343242196518068\n",
      "(array([0, 1, 2, 3, 4]), array([68,  8,  1, 42,  2], dtype=int64))\n",
      "con 5 clusters : 0.4163273975641678\n",
      "(array([0, 1, 2, 3, 4, 5]), array([13,  1, 34,  6,  2, 65], dtype=int64))\n",
      "con 6 clusters : 0.404384246703752\n",
      "(array([0, 1, 2, 3, 4, 5, 6]), array([ 1, 63,  1,  6,  1, 39, 10], dtype=int64))\n",
      "con 7 clusters : 0.4041013860096761\n",
      "(array([0, 1, 2, 3, 4, 5, 6, 7]), array([25, 31,  1,  3,  1,  1, 54,  5], dtype=int64))\n",
      "con 8 clusters : 0.35898230030482703\n",
      "(array([0, 1, 2, 3, 4, 5, 6, 7, 8]), array([49,  1,  3,  1, 17,  1, 23,  5, 21], dtype=int64))\n",
      "con 9 clusters : 0.3332540946826518\n",
      "(array([0, 1, 2, 3, 4, 5, 6, 7, 8, 9]), array([28,  1,  1,  5, 21,  1,  1, 21, 37,  5], dtype=int64))\n",
      "con 10 clusters : 0.3214901790615372\n",
      "[1456500.6042846823, 389307.78475300316, 352401.03923347604, 143890.21970910556, 137406.0415269772, 101920.11376209732, 56294.62573798571, 40159.59260938066]\n"
     ]
    },
    {
     "ename": "ValueError",
     "evalue": "A 2-dimensional array must be passed.",
     "output_type": "error",
     "traceback": [
      "\u001b[1;31m---------------------------------------------------------------------------\u001b[0m",
      "\u001b[1;31mValueError\u001b[0m                                Traceback (most recent call last)",
      "Input \u001b[1;32mIn [82]\u001b[0m, in \u001b[0;36m<cell line: 3>\u001b[1;34m()\u001b[0m\n\u001b[0;32m      1\u001b[0m listkmeans\u001b[38;5;241m=\u001b[39m cluster_routine\u001b[38;5;241m.\u001b[39mkm_cluster_plt(feat1)\n\u001b[1;32m----> 3\u001b[0m \u001b[43mcluster_dist\u001b[49m\u001b[43m(\u001b[49m\u001b[43mfeat1\u001b[49m\u001b[43m,\u001b[49m\u001b[43mlistkmeans\u001b[49m\u001b[43m[\u001b[49m\u001b[38;5;241;43m6\u001b[39;49m\u001b[43m]\u001b[49m\u001b[43m)\u001b[49m\n",
      "Input \u001b[1;32mIn [45]\u001b[0m, in \u001b[0;36mcluster_dist\u001b[1;34m(feat, db)\u001b[0m\n\u001b[0;32m     11\u001b[0m     final_points\u001b[38;5;241m=\u001b[39mnp\u001b[38;5;241m.\u001b[39marray(final_points)\u001b[38;5;241m.\u001b[39mastype(\u001b[38;5;28mfloat\u001b[39m)\n\u001b[0;32m     12\u001b[0m     \u001b[38;5;66;03m#print(final_points)\u001b[39;00m\n\u001b[1;32m---> 13\u001b[0m     df[\u001b[38;5;124m'\u001b[39m\u001b[38;5;124mmean_dist\u001b[39m\u001b[38;5;124m'\u001b[39m\u001b[38;5;241m+\u001b[39m\u001b[38;5;28mstr\u001b[39m(label)]\u001b[38;5;241m=\u001b[39m \u001b[43mpdist\u001b[49m\u001b[43m(\u001b[49m\u001b[43mfinal_points\u001b[49m\u001b[43m)\u001b[49m\u001b[38;5;241m.\u001b[39mmean()\n\u001b[0;32m     15\u001b[0m \u001b[38;5;28;01mreturn\u001b[39;00m df\n",
      "File \u001b[1;32m~\\miniconda3\\lib\\site-packages\\scipy\\spatial\\distance.py:2231\u001b[0m, in \u001b[0;36mpdist\u001b[1;34m(X, metric, out, **kwargs)\u001b[0m\n\u001b[0;32m   2229\u001b[0m s \u001b[38;5;241m=\u001b[39m X\u001b[38;5;241m.\u001b[39mshape\n\u001b[0;32m   2230\u001b[0m \u001b[38;5;28;01mif\u001b[39;00m \u001b[38;5;28mlen\u001b[39m(s) \u001b[38;5;241m!=\u001b[39m \u001b[38;5;241m2\u001b[39m:\n\u001b[1;32m-> 2231\u001b[0m     \u001b[38;5;28;01mraise\u001b[39;00m \u001b[38;5;167;01mValueError\u001b[39;00m(\u001b[38;5;124m'\u001b[39m\u001b[38;5;124mA 2-dimensional array must be passed.\u001b[39m\u001b[38;5;124m'\u001b[39m)\n\u001b[0;32m   2233\u001b[0m m, n \u001b[38;5;241m=\u001b[39m s\n\u001b[0;32m   2235\u001b[0m \u001b[38;5;28;01mif\u001b[39;00m callable(metric):\n",
      "\u001b[1;31mValueError\u001b[0m: A 2-dimensional array must be passed."
     ]
    }
   ],
   "source": [
    "listkmeans= cluster_routine.km_cluster_plt(feat1)\n",
    "\n",
    "cluster_dist(feat1,listkmeans[6])"
   ]
  },
  {
   "cell_type": "code",
   "execution_count": 30,
   "id": "ef19ab5e",
   "metadata": {},
   "outputs": [],
   "source": [
    "points = []\n",
    "for x in feat1[feat1['labels']==0].index:\n",
    "    points.append(x[3:])\n",
    "    \n",
    "final_points= []\n",
    "for x in points:\n",
    "    final_points.append([x[0],x[-1]])\n",
    "    \n",
    "final_points = np.array(final_points).astype(float)\n",
    "                    "
   ]
  },
  {
   "cell_type": "code",
   "execution_count": 31,
   "id": "ee63c08f",
   "metadata": {},
   "outputs": [],
   "source": [
    "final_points= []\n",
    "for x in points:\n",
    "    final_points.append([x[0],x[-1]])\n",
    "\n",
    "final_points = np.array(final_points).astype(float)\n",
    "                    "
   ]
  },
  {
   "cell_type": "code",
   "execution_count": null,
   "id": "a5a512dd",
   "metadata": {},
   "outputs": [],
   "source": [
    "from scipy.spatial.distance import cdist,pdist\n",
    "m = cdist(final_points,final_points)"
   ]
  },
  {
   "cell_type": "code",
   "execution_count": 34,
   "id": "9f6dc237",
   "metadata": {},
   "outputs": [
    {
     "data": {
      "text/plain": [
       "5.1382597918359245"
      ]
     },
     "execution_count": 34,
     "metadata": {},
     "output_type": "execute_result"
    }
   ],
   "source": [
    "pdist(final_points).mean()"
   ]
  },
  {
   "cell_type": "code",
   "execution_count": 88,
   "id": "7dca7217",
   "metadata": {},
   "outputs": [
    {
     "data": {
      "text/plain": [
       "(121,)"
      ]
     },
     "execution_count": 88,
     "metadata": {},
     "output_type": "execute_result"
    }
   ],
   "source": [
    "db1.labels_.shape"
   ]
  },
  {
   "cell_type": "code",
   "execution_count": 79,
   "id": "9c139ae0",
   "metadata": {},
   "outputs": [],
   "source": [
    "v = listkmeans[0].labels_"
   ]
  },
  {
   "cell_type": "code",
   "execution_count": 43,
   "id": "a5ce2b6f",
   "metadata": {},
   "outputs": [],
   "source": [
    "total = pdist([(i,j) for i in range(1,12) for j in range(1,12)])"
   ]
  },
  {
   "cell_type": "code",
   "execution_count": 44,
   "id": "8441dadc",
   "metadata": {},
   "outputs": [
    {
     "data": {
      "text/plain": [
       "5.758545271680614"
      ]
     },
     "execution_count": 44,
     "metadata": {},
     "output_type": "execute_result"
    }
   ],
   "source": [
    "np.mean(total)"
   ]
  },
  {
   "cell_type": "code",
   "execution_count": null,
   "id": "da52ee80",
   "metadata": {},
   "outputs": [],
   "source": [
    "np.mean(pairwise)"
   ]
  },
  {
   "cell_type": "code",
   "execution_count": null,
   "id": "b4528357",
   "metadata": {},
   "outputs": [],
   "source": []
  }
 ],
 "metadata": {
  "kernelspec": {
   "display_name": "Python 3 (ipykernel)",
   "language": "python",
   "name": "python3"
  },
  "language_info": {
   "codemirror_mode": {
    "name": "ipython",
    "version": 3
   },
   "file_extension": ".py",
   "mimetype": "text/x-python",
   "name": "python",
   "nbconvert_exporter": "python",
   "pygments_lexer": "ipython3",
   "version": "3.9.12"
  }
 },
 "nbformat": 4,
 "nbformat_minor": 5
}
