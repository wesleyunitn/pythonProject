{
 "cells": [
  {
   "cell_type": "code",
   "execution_count": 1,
   "id": "4ce02ed8",
   "metadata": {},
   "outputs": [],
   "source": [
    "from data_load  import *\n",
    "#import pandas as pd\n",
    "# ||||||||||è un utilizzo un pò improprio di import, basta ricordare che così importiamo pandas\n",
    "import classes\n",
    "import funzioni\n",
    "import cluster_routine\n",
    "import numpy as np\n"
   ]
  },
  {
   "cell_type": "code",
   "execution_count": 2,
   "id": "19d35585",
   "metadata": {},
   "outputs": [],
   "source": [
    "picchi1 = classes.Spettri(data1,npicchi=None,prop={'height':(None,None),'prominence':1*10**-6})\n",
    "\n",
    "picchi2 = classes.Spettri(data2,npicchi=None,prop={'height':(None,None),'prominence':1*10**-6})\n",
    "\n"
   ]
  },
  {
   "cell_type": "code",
   "execution_count": null,
   "id": "80a8828a",
   "metadata": {},
   "outputs": [],
   "source": [
    "#come cambia in funzione della prominence il numero di picchi che vengono trovati?\n",
    "dic = pd.DataFrame({})\n",
    "for n,pr in enumerate(np.linspace(10**-6,10**-5,10)):\n",
    "    cl = classes.Spettri(data1,npicchi=None,prop={'height':(None,None),'prominence':pr})\n",
    "    cl.normalizer()\n",
    "    cl.peakfinder()\n",
    "    feat = cl.featextract(statlist=['mean','std','count'])\n",
    "    dic[f'{n}_esimo_pr-{pr}']= feat['count']\n",
    "    del cl\n",
    "    "
   ]
  },
  {
   "cell_type": "code",
   "execution_count": null,
   "id": "b686bb8f",
   "metadata": {},
   "outputs": [],
   "source": [
    "import seaborn as sns\n",
    "import matplotlib.pyplot as plt\n",
    "%matplotlib inline\n",
    "plt.figure(figsize=(10,8))\n",
    "dic.T.iloc[:,10:20].plot(figsize=(20,8),grid=True, xlim=(None,None))\n"
   ]
  },
  {
   "cell_type": "code",
   "execution_count": null,
   "id": "fcd0eaae",
   "metadata": {},
   "outputs": [],
   "source": []
  },
  {
   "cell_type": "code",
   "execution_count": null,
   "id": "245ec090",
   "metadata": {
    "scrolled": true
   },
   "outputs": [],
   "source": [
    "#questa è una routine base prima normalizza i dati e poi ne calcola i picchi\n",
    "# le proprietà sono salvate come attributo dell'istanza [.picchi è un attributo aggiuntivo creato .peakfinder() ]\n",
    "picchi1.normalizer()\n",
    "picchi2.normalizer()\n",
    "picchi1.peakfinder()\n",
    "picchi2.peakfinder()\n",
    "pass"
   ]
  },
  {
   "cell_type": "code",
   "execution_count": null,
   "id": "fcd99235",
   "metadata": {},
   "outputs": [],
   "source": [
    "#per ora utilizzo un metodo per l'estrazione delle feature senza che esso salvi il risultato in nessun attributo ma ritornandolo\n",
    "feat_picchi1= picchi1.featextract(cols=['peak_heights','prominences','K'],statlist=['mean','std','count'])\n",
    "feat_picchi2 = picchi2.featextract(cols=['peak_heights','prominences','K'], statlist=['mean','std','count'])\n",
    "km1_list= cluster_routine.km_cluster_plt(feat_picchi1,plot=True)\n",
    "km2_list =  cluster_routine.km_cluster_plt(feat_picchi2.dropna(),plot=True)\n",
    "feat_picchi1['labels_km']=  km1_list[7].labels_\n",
    "feat_picchi2['labels_km']= km2_list[8].labels_"
   ]
  },
  {
   "cell_type": "code",
   "execution_count": null,
   "id": "db441453",
   "metadata": {},
   "outputs": [],
   "source": []
  },
  {
   "cell_type": "code",
   "execution_count": null,
   "id": "a60a29ad",
   "metadata": {},
   "outputs": [],
   "source": []
  },
  {
   "cell_type": "code",
   "execution_count": null,
   "id": "7b029af0",
   "metadata": {},
   "outputs": [],
   "source": [
    "sns.pairplot(data=feat_picchi1,vars=['peak_heights_mean','K_mean','count','prominences_mean'], hue='labels_km')"
   ]
  },
  {
   "cell_type": "code",
   "execution_count": null,
   "id": "0ea4e959",
   "metadata": {},
   "outputs": [],
   "source": [
    "sns.pairplot(data=feat_picchi2,vars=['peak_heights_mean','K_mean','count','prominences_mean'], hue='labels_km')"
   ]
  },
  {
   "cell_type": "code",
   "execution_count": null,
   "id": "656affc0",
   "metadata": {},
   "outputs": [],
   "source": [
    "score1=[]\n",
    "for x in km1_list:\n",
    "    \n",
    "    score1.append(cluster_routine.silhouette_score(feat_picchi1,x.labels_))"
   ]
  },
  {
   "cell_type": "code",
   "execution_count": null,
   "id": "6e52a0a0",
   "metadata": {},
   "outputs": [],
   "source": [
    "score2=[]\n",
    "for x in km2_list:\n",
    "    \n",
    "    score2.append(cluster_routine.silhouette_score(feat_picchi2,x.labels_))"
   ]
  },
  {
   "cell_type": "code",
   "execution_count": null,
   "id": "c169cac3",
   "metadata": {},
   "outputs": [],
   "source": [
    "score1"
   ]
  },
  {
   "cell_type": "code",
   "execution_count": null,
   "id": "a0fe9720",
   "metadata": {},
   "outputs": [],
   "source": [
    "sns.lineplot(data=score1,label='score1')\n",
    "sns.lineplot(data=score2,label='score2')"
   ]
  },
  {
   "cell_type": "code",
   "execution_count": null,
   "id": "25faef3f",
   "metadata": {},
   "outputs": [],
   "source": []
  }
 ],
 "metadata": {
  "kernelspec": {
   "display_name": "Python 3 (ipykernel)",
   "language": "python",
   "name": "python3"
  },
  "language_info": {
   "codemirror_mode": {
    "name": "ipython",
    "version": 3
   },
   "file_extension": ".py",
   "mimetype": "text/x-python",
   "name": "python",
   "nbconvert_exporter": "python",
   "pygments_lexer": "ipython3",
   "version": "3.9.12"
  }
 },
 "nbformat": 4,
 "nbformat_minor": 5
}
