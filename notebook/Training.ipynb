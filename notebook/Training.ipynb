{
 "cells": [
  {
   "cell_type": "markdown",
   "id": "7a576340",
   "metadata": {},
   "source": [
    "# Training e prime valutazioni"
   ]
  },
  {
   "cell_type": "code",
   "execution_count": 14,
   "id": "23b2eb31",
   "metadata": {},
   "outputs": [],
   "source": [
    "from sklearn.decomposition import PCA\n",
    "from sklearn.preprocessing import StandardScaler,MinMaxScaler\n",
    "from sklearn.cluster import KMeans,DBSCAN\n",
    "from sklearn.model_selection import GridSearchCV,cross_val_score\n",
    "from sklearn.pipeline import Pipeline\n",
    "from sklearn.metrics import silhouette_score, davies_bouldin_score"
   ]
  },
  {
   "cell_type": "code",
   "execution_count": 15,
   "id": "3798fade",
   "metadata": {},
   "outputs": [],
   "source": [
    "import os\n",
    "import sys\n",
    "#SERVE PER POTER IMPORTARE I FILE .PY DALLA CARTELLA SOURCE\n",
    "sys.path.append('..')\n",
    "sys.path.append('..\\data')\n",
    "\n",
    "# importo i miei script dal package src\n",
    "from src.data_load_notebook  import *\n",
    "#import pandas as pd|\n",
    "# ||||||||||è un utilizzo un pò improprio di import, basta ricordare che così importiamo pandas\n",
    "from src.classes import Spettri,plot_peaks, plot_spettri\n",
    "from src import funzioni\n",
    "from src import cluster_routine\n",
    "import numpy as np\n",
    "\n",
    "from scipy.spatial.distance import pdist\n",
    "from numpy.random import choice\n",
    "import seaborn as sns\n",
    "import matplotlib.pyplot as plt\n",
    "%matplotlib inline\n",
    "pass"
   ]
  },
  {
   "cell_type": "code",
   "execution_count": 16,
   "id": "9c3b5c17",
   "metadata": {},
   "outputs": [],
   "source": [
    "#routine per estrarre i picchi e le feature dai csampioni\n",
    "pk1 = Spettri(data1bkg)\n",
    "pk1bkg = Spettri(data1)\n",
    "pk1.peakfinder()\n",
    "pk1bkg.peakfinder()\n",
    "pk1.featextract()\n",
    "pk1bkg.featextract()\n",
    "pk1.featextract2()\n",
    "pk1bkg.featextract2()\n",
    "pass"
   ]
  },
  {
   "cell_type": "code",
   "execution_count": 17,
   "id": "d6c5a516",
   "metadata": {},
   "outputs": [],
   "source": [
    "picchidf = funzioni.peakfinder(database)\n",
    "database_feat1 = funzioni.featextract1_df(picchidf)\n",
    "database_feat2 = funzioni.featextract2_df(picchidf)"
   ]
  },
  {
   "cell_type": "code",
   "execution_count": 18,
   "id": "ce497982",
   "metadata": {},
   "outputs": [
    {
     "data": {
      "text/plain": [
       "GridSearchCV(estimator=Pipeline(steps=[('scaler', StandardScaler()),\n",
       "                                       ('pca', PCA()),\n",
       "                                       ('clustering', KMeans())]),\n",
       "             param_grid={'clustering__n_clusters': [3, 5, 6, 7],\n",
       "                         'pca__n_components': [2, 4, 6]})"
      ]
     },
     "execution_count": 18,
     "metadata": {},
     "output_type": "execute_result"
    }
   ],
   "source": [
    "# creo due pipeline per i due spazi\n",
    "steps= [('scaler',StandardScaler()),('pca',PCA()),('clustering',KMeans())]\n",
    "param_g = {'pca__n_components': [2,4,6],'clustering__n_clusters': [3,5,6,7]}\n",
    "pipekm = Pipeline(steps)\n",
    "search = GridSearchCV(pipekm, param_grid= param_g )\n",
    "search.fit(pk1.feature)\n",
    "#dtbs_feat1_trnsf = search.transform()"
   ]
  },
  {
   "cell_type": "code",
   "execution_count": null,
   "id": "85b59828",
   "metadata": {},
   "outputs": [],
   "source": [
    "feat1transf = pd.DataFrame(search.best_estimator_[:-1].transform(pk1.feature))\n",
    "feat1transf['labels']= search.best_estimator_.predict(pk1.feature)\n",
    "plt.figure(figsize = (17,8))\n",
    "sns.scatterplot(data = feat1transf,x = 0, y = 1, hue= 'labels')"
   ]
  },
  {
   "cell_type": "code",
   "execution_count": null,
   "id": "75a121e0",
   "metadata": {},
   "outputs": [],
   "source": [
    "lab = search.best_estimator_.predict(database_feat1)\n",
    "databasetranform = pd.DataFrame(search.best_estimator_[:-1].fit_transform(database_feat1))\n",
    "databasetranform['labels'] = lab\n",
    "plt.figure(figsize = (17,8))\n",
    "sns.scatterplot(data = databasetranform, x = 0, y = 1, hue = 'labels')"
   ]
  },
  {
   "cell_type": "code",
   "execution_count": 25,
   "id": "c2b5ded1",
   "metadata": {},
   "outputs": [],
   "source": [
    "dfpk1 = pd.DataFrame(pk1.feature, copy=True)\n",
    "dfpk1['labels'] = search.predict(pk1.feature)\n",
    "clust_dist_mean = []\n",
    "for x in np.unique(dfpk1['labels']):\n",
    "    clust_dist_mean.append(np.mean(pdist(dfpk1[dfpk1['labels']== x ].drop('labels',axis = 1) ) ))"
   ]
  },
  {
   "cell_type": "code",
   "execution_count": 20,
   "id": "eb8a406b",
   "metadata": {},
   "outputs": [
    {
     "data": {
      "text/plain": [
       "292.46291367869514"
      ]
     },
     "execution_count": 20,
     "metadata": {},
     "output_type": "execute_result"
    }
   ],
   "source": [
    "np.mean(pdist(dfpk1.drop('labels',axis = 1)))"
   ]
  },
  {
   "cell_type": "code",
   "execution_count": 27,
   "id": "27109118",
   "metadata": {},
   "outputs": [
    {
     "data": {
      "text/plain": [
       "190.82670975461647"
      ]
     },
     "execution_count": 27,
     "metadata": {},
     "output_type": "execute_result"
    }
   ],
   "source": [
    "np.mean(clust_dist_mean)"
   ]
  },
  {
   "cell_type": "code",
   "execution_count": 29,
   "id": "b96cee7d",
   "metadata": {},
   "outputs": [
    {
     "data": {
      "text/plain": [
       "{'mean_fit_time': array([0.03473802, 0.03922133, 0.03626447, 0.04996347, 0.03970761,\n",
       "        0.03492756, 0.04781623, 0.04687209, 0.04687176, 0.04946423,\n",
       "        0.04981585, 0.05174332]),\n",
       " 'std_fit_time': array([0.00571119, 0.00663573, 0.00644596, 0.01520397, 0.00710625,\n",
       "        0.00606849, 0.00188746, 0.00988129, 0.00988174, 0.00748089,\n",
       "        0.00588729, 0.00635148]),\n",
       " 'mean_score_time': array([0.07518225, 0.08054881, 0.08157911, 0.07521358, 0.07803354,\n",
       "        0.08078628, 0.07767329, 0.07882204, 0.07624102, 0.07832785,\n",
       "        0.07567592, 0.07667422]),\n",
       " 'std_score_time': array([0.00586572, 0.00454483, 0.00752018, 0.00628363, 0.00017183,\n",
       "        0.00533423, 0.00089221, 0.00140529, 0.00708723, 0.00041702,\n",
       "        0.00488708, 0.00289059]),\n",
       " 'param_clustering__n_clusters': masked_array(data=[3, 3, 3, 5, 5, 5, 6, 6, 6, 7, 7, 7],\n",
       "              mask=[False, False, False, False, False, False, False, False,\n",
       "                    False, False, False, False],\n",
       "        fill_value='?',\n",
       "             dtype=object),\n",
       " 'param_pca__n_components': masked_array(data=[2, 4, 6, 2, 4, 6, 2, 4, 6, 2, 4, 6],\n",
       "              mask=[False, False, False, False, False, False, False, False,\n",
       "                    False, False, False, False],\n",
       "        fill_value='?',\n",
       "             dtype=object),\n",
       " 'params': [{'clustering__n_clusters': 3, 'pca__n_components': 2},\n",
       "  {'clustering__n_clusters': 3, 'pca__n_components': 4},\n",
       "  {'clustering__n_clusters': 3, 'pca__n_components': 6},\n",
       "  {'clustering__n_clusters': 5, 'pca__n_components': 2},\n",
       "  {'clustering__n_clusters': 5, 'pca__n_components': 4},\n",
       "  {'clustering__n_clusters': 5, 'pca__n_components': 6},\n",
       "  {'clustering__n_clusters': 6, 'pca__n_components': 2},\n",
       "  {'clustering__n_clusters': 6, 'pca__n_components': 4},\n",
       "  {'clustering__n_clusters': 6, 'pca__n_components': 6},\n",
       "  {'clustering__n_clusters': 7, 'pca__n_components': 2},\n",
       "  {'clustering__n_clusters': 7, 'pca__n_components': 4},\n",
       "  {'clustering__n_clusters': 7, 'pca__n_components': 6}],\n",
       " 'split0_test_score': array([-32.94140715, -54.68788458, -59.20989113, -21.47571534,\n",
       "        -44.77462211, -48.43416988, -18.67311219, -37.50930419,\n",
       "        -41.64939455, -15.94313115, -36.95781404, -42.07316477]),\n",
       " 'split1_test_score': array([ -58.11379698, -105.75473939, -109.05407663,  -36.47614309,\n",
       "         -85.65529466,  -89.28438836,  -28.91558711,  -53.07584516,\n",
       "         -58.68991143,  -27.67335165,  -54.82728277,  -60.67569868]),\n",
       " 'split2_test_score': array([-50.32208487, -67.1752232 , -74.24477794, -32.90770493,\n",
       "        -54.78143662, -59.37698819, -32.74848108, -53.91990743,\n",
       "        -58.66869668, -25.90708831, -49.41207756, -52.21648539]),\n",
       " 'split3_test_score': array([-56.20558862, -77.57259745, -81.91504546, -26.93882987,\n",
       "        -63.82251627, -69.67872816, -23.39428408, -51.99738664,\n",
       "        -48.73722361, -19.52470796, -37.06716075, -43.3455127 ]),\n",
       " 'split4_test_score': array([-55.73333476, -77.03166476, -81.92797323, -36.19391367,\n",
       "        -65.33622134, -70.32723055, -37.80716574, -59.37218459,\n",
       "        -64.22228624, -31.29451741, -56.60262212, -63.17991571]),\n",
       " 'mean_test_score': array([-50.66324247, -76.44442188, -81.27035288, -30.79846138,\n",
       "        -62.8740182 , -67.42030103, -28.30772604, -51.1749256 ,\n",
       "        -54.3935025 , -24.06855929, -46.97339145, -52.29815545]),\n",
       " 'std_test_score': array([ 9.23161995, 16.85216488, 16.17903628,  5.78975358, 13.55748255,\n",
       "        13.54073192,  6.74235643,  7.29066699,  8.09626066,  5.57240263,\n",
       "         8.47110477,  8.64063486]),\n",
       " 'rank_test_score': array([ 5, 11, 12,  3,  9, 10,  2,  6,  8,  1,  4,  7])}"
      ]
     },
     "execution_count": 29,
     "metadata": {},
     "output_type": "execute_result"
    }
   ],
   "source": [
    "search.cv_results_"
   ]
  },
  {
   "cell_type": "code",
   "execution_count": null,
   "id": "85e2fe31",
   "metadata": {},
   "outputs": [],
   "source": []
  }
 ],
 "metadata": {
  "kernelspec": {
   "display_name": "Python 3 (ipykernel)",
   "language": "python",
   "name": "python3"
  },
  "language_info": {
   "codemirror_mode": {
    "name": "ipython",
    "version": 3
   },
   "file_extension": ".py",
   "mimetype": "text/x-python",
   "name": "python",
   "nbconvert_exporter": "python",
   "pygments_lexer": "ipython3",
   "version": "3.9.12"
  }
 },
 "nbformat": 4,
 "nbformat_minor": 5
}
